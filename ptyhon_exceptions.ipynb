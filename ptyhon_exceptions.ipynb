{
  "nbformat": 4,
  "nbformat_minor": 0,
  "metadata": {
    "colab": {
      "name": "ptyhon_exceptions.ipynb",
      "provenance": [],
      "authorship_tag": "ABX9TyPcjGLTnLj5kY3uXLDvdAOf",
      "include_colab_link": true
    },
    "kernelspec": {
      "name": "python3",
      "display_name": "Python 3"
    }
  },
  "cells": [
    {
      "cell_type": "markdown",
      "metadata": {
        "id": "view-in-github",
        "colab_type": "text"
      },
      "source": [
        "<a href=\"https://colab.research.google.com/github/muhammetaslan/python/blob/master/ptyhon_exceptions.ipynb\" target=\"_parent\"><img src=\"https://colab.research.google.com/assets/colab-badge.svg\" alt=\"Open In Colab\"/></a>"
      ]
    },
    {
      "cell_type": "code",
      "metadata": {
        "id": "80S-uDZyyZHh",
        "colab_type": "code",
        "colab": {
          "base_uri": "https://localhost:8080/",
          "height": 34
        },
        "outputId": "b445902a-239f-452c-aa64-2189d0b33028"
      },
      "source": [
        "if(zero==0):\n",
        "    a = 0\n",
        "else:\n",
        "    a = k/zero\n",
        "    \n",
        "try: \n",
        "    a = k/zero\n",
        "except ZeroDivisionError:\n",
        "    a = 0\n",
        "    \n",
        "# index error\n",
        "list1 = [1,2,3,4]\n",
        "#list1[15]\n",
        "\n",
        "# module not found error\n",
        "#import numpyy \n",
        "\n",
        "# file not found error\n",
        "import pandas as pd\n",
        "#pd.read_csv(\"asd\")\n",
        "\n",
        "# type error\n",
        "#\"2\" + 2\n",
        "\n",
        "# value error\n",
        "#int(\"sad\")\n",
        "\n",
        "try:\n",
        "    1/1\n",
        "except:\n",
        "    print(\"except\")\n",
        "else:\n",
        "    print(\"else\")\n",
        "finally:\n",
        "    print(\"done\")"
      ],
      "execution_count": 10,
      "outputs": [
        {
          "output_type": "execute_result",
          "data": {
            "text/plain": [
              "{2: 'x', 3: 'y'}"
            ]
          },
          "metadata": {
            "tags": []
          },
          "execution_count": 10
        }
      ]
    }
  ]
}