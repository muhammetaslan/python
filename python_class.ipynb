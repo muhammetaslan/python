{
  "nbformat": 4,
  "nbformat_minor": 0,
  "metadata": {
    "colab": {
      "name": "python_class.ipynb",
      "provenance": [],
      "collapsed_sections": [],
      "authorship_tag": "ABX9TyNVjZQaedWG36fc7p/v8ZYS",
      "include_colab_link": true
    },
    "kernelspec": {
      "name": "python3",
      "display_name": "Python 3"
    }
  },
  "cells": [
    {
      "cell_type": "markdown",
      "metadata": {
        "id": "view-in-github",
        "colab_type": "text"
      },
      "source": [
        "<a href=\"https://colab.research.google.com/github/muhammetaslan/python/blob/master/python_class.ipynb\" target=\"_parent\"><img src=\"https://colab.research.google.com/assets/colab-badge.svg\" alt=\"Open In Colab\"/></a>"
      ]
    },
    {
      "cell_type": "code",
      "metadata": {
        "id": "YW5VhUY9IC4F",
        "colab_type": "code",
        "colab": {
          "base_uri": "https://localhost:8080/",
          "height": 102
        },
        "outputId": "c4cbd428-3a8b-437d-edcd-789e99cfc6a2"
      },
      "source": [
        "class Car:\n",
        "    # this __init__ statement refers to constructor of the python class\n",
        "  def __init__(self,hp,clour,price):\n",
        "    self.hp = hp\n",
        "    self.clour = clour\n",
        "    self.price = price\n",
        "\n",
        "  def getHp(self):\n",
        "    return self.hp\n",
        "  def getClour(self):\n",
        "    return self.clour\n",
        "  def getPrice(self):\n",
        "    return self.price\n",
        "\n",
        "cr = Car(\"125\",\"red\",\"25.000\") \n",
        "print(cr.getHp() + \" \" + cr.hp) \n",
        "print(cr.getClour() + \" \" + cr.clour)\n",
        "print(cr.getPrice() + \" \" + cr.price)\n",
        "\n",
        "\n",
        "class Animals:\n",
        "  def __init__(self,name,foot_number):\n",
        "    self.name = name\n",
        "    self.foot_number = foot_number\n",
        "  \n",
        "  def setName(name):\n",
        "    self.name = name\n",
        "  def setFootNumber(f_num):\n",
        "    self.foot_number = f_num\n",
        "\n",
        "  def getName(self):\n",
        "    return self.name\n",
        "  def getFootNumber(self):\n",
        "    return self.foot_number\n",
        "\n",
        "karabas = Animals(\"karabas\",4)\n",
        "\n",
        "cikcik = Animals(\"karga\",2)\n",
        "\n",
        "liste = [karabas,cikcik]\n",
        "\n",
        "for each in liste:\n",
        "  print(each.name + \" \" + str(each.foot_number))\n",
        "\n",
        "\n"
      ],
      "execution_count": 9,
      "outputs": [
        {
          "output_type": "stream",
          "text": [
            "125 125\n",
            "red red\n",
            "25.000 25.000\n",
            "karabas 4\n",
            "karga 2\n"
          ],
          "name": "stdout"
        }
      ]
    }
  ]
}