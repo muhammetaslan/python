{
  "nbformat": 4,
  "nbformat_minor": 0,
  "metadata": {
    "colab": {
      "name": "sendEmail.ipynb",
      "provenance": [],
      "collapsed_sections": [],
      "authorship_tag": "ABX9TyPK52Oz7zItkH9nLy8swtcH",
      "include_colab_link": true
    },
    "kernelspec": {
      "name": "python3",
      "display_name": "Python 3"
    }
  },
  "cells": [
    {
      "cell_type": "markdown",
      "metadata": {
        "id": "view-in-github",
        "colab_type": "text"
      },
      "source": [
        "<a href=\"https://colab.research.google.com/github/muhammetaslan/python/blob/master/sendEmail.ipynb\" target=\"_parent\"><img src=\"https://colab.research.google.com/assets/colab-badge.svg\" alt=\"Open In Colab\"/></a>"
      ]
    },
    {
      "cell_type": "code",
      "metadata": {
        "id": "CJY_FrsWCVW1",
        "colab_type": "code",
        "colab": {}
      },
      "source": [
        "import smtplib\n",
        "import email\n",
        "from email.mime.text import MIMEText\n",
        "\n",
        "email_host = \"smtp.gmail.com\"\n",
        "email_port = 587\n",
        "email_sender = \"tinep18885@exploraxb.com\" # change it to your own gmail account\n",
        "email_password = \"\" # enter in runtime\n",
        "email_receivers = [\"muhammet.aslan@ozu.edu.tr\", \"muhammet.aslan@vestel.com.tr\",\"muhammet.aslan1995@gmail.com\"] # the list of recipient email addresses\n",
        "\n",
        "# also you must give the permission for google account,if you will use gmail form there \"https://myaccount.google.com/lesssecureapps\"\n",
        "\n",
        "message = MIMEText(\"Hey what's up\")\n",
        "message[\"From\"] = email_sender  # your email account\n",
        "message[\"To\"] = email_receivers # the list of email addresses\n",
        "message[\"Subject\"] = \"Just fun bro...\"\n",
        "\n",
        "\n",
        "email_server = smtplib.SMTP(email_host, email_port)\n",
        "email_server.starttls()\n",
        "email_server.login(email_sender, email_password)\n",
        "email_server.sendmail(email_sender, email_receivers, message.as_string())\n",
        "email_server.quit()"
      ],
      "execution_count": null,
      "outputs": []
    }
  ]
}