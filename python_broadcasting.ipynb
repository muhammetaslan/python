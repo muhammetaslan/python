{
  "nbformat": 4,
  "nbformat_minor": 0,
  "metadata": {
    "colab": {
      "name": "python-broadcasting.ipynb",
      "provenance": [],
      "collapsed_sections": [],
      "authorship_tag": "ABX9TyNVMw7ByR/2LDaaatdGVaqW",
      "include_colab_link": true
    },
    "kernelspec": {
      "name": "python3",
      "display_name": "Python 3"
    }
  },
  "cells": [
    {
      "cell_type": "markdown",
      "metadata": {
        "id": "view-in-github",
        "colab_type": "text"
      },
      "source": [
        "<a href=\"https://colab.research.google.com/github/muhammetaslan/python/blob/master/python_broadcasting.ipynb\" target=\"_parent\"><img src=\"https://colab.research.google.com/assets/colab-badge.svg\" alt=\"Open In Colab\"/></a>"
      ]
    },
    {
      "cell_type": "code",
      "metadata": {
        "id": "I0G9x_-zaA08",
        "colab_type": "code",
        "colab": {
          "base_uri": "https://localhost:8080/",
          "height": 68
        },
        "outputId": "5f122dc1-f39e-43c4-b4ee-58329d3aff29"
      },
      "source": [
        "import numpy as np\n",
        "\n",
        "cal_A = np.array([[56.0,0.0,4.4,68.0],\n",
        "                [1.2,104.0,52.0,8.0],\n",
        "                [1.8,135.0,99.0,0.9]])\n",
        "\n",
        "print(cal_A)"
      ],
      "execution_count": 17,
      "outputs": [
        {
          "output_type": "stream",
          "text": [
            "[[ 56.    0.    4.4  68. ]\n",
            " [  1.2 104.   52.    8. ]\n",
            " [  1.8 135.   99.    0.9]]\n"
          ],
          "name": "stdout"
        }
      ]
    },
    {
      "cell_type": "code",
      "metadata": {
        "id": "2gAdu33LanCb",
        "colab_type": "code",
        "colab": {
          "base_uri": "https://localhost:8080/",
          "height": 34
        },
        "outputId": "aa454714-c522-40bf-8ec8-ce528dccee64"
      },
      "source": [
        "# axis= 0 means sum vertically\n",
        "# axis= 1 means sum horizantaly\n",
        "cal = cal_A.sum(axis=0)\n",
        "print(cal)"
      ],
      "execution_count": 18,
      "outputs": [
        {
          "output_type": "stream",
          "text": [
            "[ 59.  239.  155.4  76.9]\n"
          ],
          "name": "stdout"
        }
      ]
    },
    {
      "cell_type": "code",
      "metadata": {
        "id": "b9G640Ufa_om",
        "colab_type": "code",
        "colab": {
          "base_uri": "https://localhost:8080/",
          "height": 68
        },
        "outputId": "0d7ba32d-16e9-48d4-b64c-5148172a25d7"
      },
      "source": [
        "# cal.reshape(1,4) burada etkisi yok zaten cal [1,4] lük matrix suan\n",
        "percentage = 100*cal_A/cal.reshape(1,4)\n",
        "print(percentage)"
      ],
      "execution_count": 19,
      "outputs": [
        {
          "output_type": "stream",
          "text": [
            "[[94.91525424  0.          2.83140283 88.42652796]\n",
            " [ 2.03389831 43.51464435 33.46203346 10.40312094]\n",
            " [ 3.05084746 56.48535565 63.70656371  1.17035111]]\n"
          ],
          "name": "stdout"
        }
      ]
    },
    {
      "cell_type": "code",
      "metadata": {
        "id": "2Sdbo-kkbcSS",
        "colab_type": "code",
        "colab": {
          "base_uri": "https://localhost:8080/",
          "height": 102
        },
        "outputId": "9e4029d0-25ad-44c6-9270-a5e600040c2f"
      },
      "source": [
        "array_1 = np.random.rand(5,5)\n",
        "print(array_1)"
      ],
      "execution_count": 25,
      "outputs": [
        {
          "output_type": "stream",
          "text": [
            "[[0.62535087 0.942588   0.87953315 0.45036506 0.7452687 ]\n",
            " [0.8511633  0.49421928 0.83011702 0.96696692 0.23529213]\n",
            " [0.82260354 0.69310598 0.89235477 0.16510652 0.95613376]\n",
            " [0.955396   0.10187427 0.89774094 0.46045346 0.94570448]\n",
            " [0.81465689 0.00424998 0.55847992 0.4563948  0.72691985]]\n"
          ],
          "name": "stdout"
        }
      ]
    },
    {
      "cell_type": "code",
      "metadata": {
        "id": "9JwQfAUbgSrH",
        "colab_type": "code",
        "colab": {
          "base_uri": "https://localhost:8080/",
          "height": 102
        },
        "outputId": "a377aae3-61f3-4167-cf25-06de644b5491"
      },
      "source": [
        "# python broadcasting sample\n",
        "array_1 += 2\n",
        "print(array_1)"
      ],
      "execution_count": 27,
      "outputs": [
        {
          "output_type": "stream",
          "text": [
            "[[2.62535087 2.942588   2.87953315 2.45036506 2.7452687 ]\n",
            " [2.8511633  2.49421928 2.83011702 2.96696692 2.23529213]\n",
            " [2.82260354 2.69310598 2.89235477 2.16510652 2.95613376]\n",
            " [2.955396   2.10187427 2.89774094 2.46045346 2.94570448]\n",
            " [2.81465689 2.00424998 2.55847992 2.4563948  2.72691985]]\n"
          ],
          "name": "stdout"
        }
      ]
    },
    {
      "cell_type": "code",
      "metadata": {
        "id": "nhouszjqg8YZ",
        "colab_type": "code",
        "colab": {}
      },
      "source": [
        ""
      ],
      "execution_count": null,
      "outputs": []
    }
  ]
}