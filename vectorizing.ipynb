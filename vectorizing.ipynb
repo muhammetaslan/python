{
  "nbformat": 4,
  "nbformat_minor": 0,
  "metadata": {
    "colab": {
      "name": "vectorizing.ipynb",
      "provenance": [],
      "collapsed_sections": [],
      "authorship_tag": "ABX9TyNnI/UgLX8HaOZGVW6vjQsV",
      "include_colab_link": true
    },
    "kernelspec": {
      "name": "python3",
      "display_name": "Python 3"
    }
  },
  "cells": [
    {
      "cell_type": "markdown",
      "metadata": {
        "id": "view-in-github",
        "colab_type": "text"
      },
      "source": [
        "<a href=\"https://colab.research.google.com/github/muhammetaslan/python/blob/master/vectorizing.ipynb\" target=\"_parent\"><img src=\"https://colab.research.google.com/assets/colab-badge.svg\" alt=\"Open In Colab\"/></a>"
      ]
    },
    {
      "cell_type": "code",
      "metadata": {
        "id": "t4NxP6BOwuD4",
        "colab_type": "code",
        "colab": {
          "base_uri": "https://localhost:8080/",
          "height": 34
        },
        "outputId": "79f9bc84-5c91-4be1-e62a-e721413ba17b"
      },
      "source": [
        "import numpy as np\n",
        "import time\n",
        "\n",
        "#this code just create numpy array\n",
        "a = np.array([1,2,3,4,5,6])\n",
        "print(a)"
      ],
      "execution_count": 2,
      "outputs": [
        {
          "output_type": "stream",
          "text": [
            "[1 2 3 4 5 6]\n"
          ],
          "name": "stdout"
        }
      ]
    },
    {
      "cell_type": "code",
      "metadata": {
        "id": "y-KbosJ5xBaQ",
        "colab_type": "code",
        "colab": {
          "base_uri": "https://localhost:8080/",
          "height": 85
        },
        "outputId": "ed78f39a-3cc5-4a4c-dc54-d85fe20c971b"
      },
      "source": [
        "ar_1 = np.random.rand(1000000)\n",
        "ar_2 = np.random.rand(1000000)\n",
        "\n",
        "\n",
        "# calculate the time interval for np.dot()\n",
        "time_st = time.time()\n",
        "result_np = np.dot(ar_1,ar_1)\n",
        "time_fn = time.time()\n",
        "\n",
        "print(result_np)\n",
        "print(\"Vectorized version : \" + str(1000*(time_st-time_fn))+ \"ms\")\n",
        "\n",
        "\n",
        "result_for = 0\n",
        "time_st = time.time()\n",
        "for i in range(1000000):\n",
        "  result_for += ar_1[i]*ar_2[2]\n",
        "time_fn = time.time()\n",
        "\n",
        "\n",
        "print(result_for)\n",
        "print(\"Non-vectorized version : \" + str(1000*(time_st-time_fn))+ \"ms\")\n"
      ],
      "execution_count": 5,
      "outputs": [
        {
          "output_type": "stream",
          "text": [
            "332800.91256902553\n",
            "Vectorized version : -0.8528232574462891ms\n",
            "334962.49157567293\n",
            "Non-vectorized version : -655.1029682159424ms\n"
          ],
          "name": "stdout"
        }
      ]
    },
    {
      "cell_type": "code",
      "metadata": {
        "id": "VmFsFQf97PT6",
        "colab_type": "code",
        "colab": {}
      },
      "source": [
        ""
      ],
      "execution_count": null,
      "outputs": []
    }
  ]
}